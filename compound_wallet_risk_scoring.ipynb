{
 "cells": [
  {
   "cell_type": "code",
   "execution_count": 8,
   "id": "6bec69a0-7991-49d9-8957-2ca1a90f5438",
   "metadata": {},
   "outputs": [],
   "source": [
    "import pandas as pd\n",
    "import requests\n",
    "from tqdm import tqdm\n",
    "import numpy as np\n",
    "from sklearn.preprocessing import MinMaxScaler\n",
    "from datetime import datetime"
   ]
  },
  {
   "cell_type": "code",
   "execution_count": 9,
   "id": "afb17ad3-5ecc-4ce4-9bb4-29f9a348078b",
   "metadata": {},
   "outputs": [
    {
     "name": "stdout",
     "output_type": "stream",
     "text": [
      "Loaded 103 wallet addresses.\n"
     ]
    }
   ],
   "source": [
    "# Load wallets.csv\n",
    "wallets_df = pd.read_csv(\"wallets.csv\") \n",
    "wallets = wallets_df['wallet_id'].tolist()\n",
    "\n",
    "print(f\"Loaded {len(wallets)} wallet addresses.\")\n"
   ]
  },
  {
   "cell_type": "code",
   "execution_count": 4,
   "id": "fb82b89b-c435-4841-8584-0d17bf4628e5",
   "metadata": {},
   "outputs": [],
   "source": [
    "# Define constants\n",
    "COVALENT_API_KEY = \"cqt_rQq3yVrGM37pKFY9fYfFRCcCj99v\"\n",
    "CHAIN_ID = \"1\"  # Ethereum Mainnet\n",
    "base_url = f\"https://api.covalenthq.com/v1/{CHAIN_ID}/address\"\n",
    "\n",
    "# Fetch Compound interactions (example: cETH token transfers)\n",
    "def fetch_compound_tx(wallet):\n",
    "    url = f\"{base_url}/{wallet}/transactions_v2/?key={COVALENT_API_KEY}&page-size=10000\"\n",
    "    try:\n",
    "        response = requests.get(url)\n",
    "        data = response.json()\n",
    "        return data['data']['items']\n",
    "    except Exception as e:\n",
    "        print(f\"Error for wallet {wallet}: {e}\")\n",
    "        return []\n"
   ]
  },
  {
   "cell_type": "code",
   "execution_count": 10,
   "id": "7cda885d-2538-4a9b-b00c-fca2f1c1bc8b",
   "metadata": {},
   "outputs": [],
   "source": [
    "def extract_features(tx_list):\n",
    "    if not tx_list:\n",
    "        return {\n",
    "            \"num_tx\": 0,\n",
    "            \"total_eth_sent\": 0,\n",
    "            \"total_eth_received\": 0,\n",
    "            \"compound_tx_count\": 0,\n",
    "            \"avg_gas_fee\": 0,\n",
    "            \"tx_duration_days\": 0\n",
    "        }\n",
    "\n",
    "    sent, received, compound_count, gas_fees = 0, 0, 0, []\n",
    "\n",
    "    tx_times = []\n",
    "    for tx in tx_list:\n",
    "        value = int(tx['value']) / 1e18\n",
    "        if tx['from_address_label'] is not None and \"compound\" in tx['from_address_label'].lower():\n",
    "            compound_count += 1\n",
    "        if tx['from_address'] == tx['to_address']:\n",
    "            continue\n",
    "        elif tx['from_address'] == wallet:\n",
    "            sent += value\n",
    "        elif tx['to_address'] == wallet:\n",
    "            received += value\n",
    "        gas_fees.append(float(tx['gas_spent']) * float(tx['gas_price']) / 1e18)\n",
    "        tx_times.append(datetime.strptime(tx['block_signed_at'], \"%Y-%m-%dT%H:%M:%SZ\"))\n",
    "\n",
    "    if tx_times:\n",
    "        duration = (max(tx_times) - min(tx_times)).days\n",
    "    else:\n",
    "        duration = 0\n",
    "\n",
    "    return {\n",
    "        \"num_tx\": len(tx_list),\n",
    "        \"total_eth_sent\": sent,\n",
    "        \"total_eth_received\": received,\n",
    "        \"compound_tx_count\": compound_count,\n",
    "        \"avg_gas_fee\": np.mean(gas_fees) if gas_fees else 0,\n",
    "        \"tx_duration_days\": duration\n",
    "    }\n"
   ]
  },
  {
   "cell_type": "code",
   "execution_count": 6,
   "id": "3db4d183-4615-4865-b6b5-21520124ea23",
   "metadata": {},
   "outputs": [
    {
     "name": "stderr",
     "output_type": "stream",
     "text": [
      "100%|████████████████████████████████████████████████████████████████████████████████| 103/103 [06:54<00:00,  4.03s/it]"
     ]
    },
    {
     "name": "stdout",
     "output_type": "stream",
     "text": [
      "Feature file saved as compound_wallet_features.csv\n"
     ]
    },
    {
     "name": "stderr",
     "output_type": "stream",
     "text": [
      "\n"
     ]
    }
   ],
   "source": [
    "features = []\n",
    "\n",
    "for wallet in tqdm(wallets):\n",
    "    txs = fetch_compound_tx(wallet)\n",
    "    wallet_features = extract_features(txs)\n",
    "    wallet_features['wallet_id'] = wallet\n",
    "    features.append(wallet_features)\n",
    "\n",
    "df = pd.DataFrame(features)\n",
    "df.to_csv(\"compound_wallet_features.csv\", index=False)\n",
    "print(\"Feature file saved as compound_wallet_features.csv\")\n"
   ]
  },
  {
   "cell_type": "code",
   "execution_count": 11,
   "id": "5d47d5e0-9dca-4452-9816-03a3d6715dcf",
   "metadata": {},
   "outputs": [],
   "source": [
    "# Select features to normalize\n",
    "feature_cols = ['num_tx', 'total_eth_sent', 'total_eth_received', \n",
    "                'compound_tx_count', 'avg_gas_fee', 'tx_duration_days']\n",
    "\n",
    "scaler = MinMaxScaler()\n",
    "df_scaled = pd.DataFrame(scaler.fit_transform(df[feature_cols]), columns=feature_cols)\n",
    "\n",
    "# Final score (you can tune weights based on importance)\n",
    "df['score'] = (\n",
    "    df_scaled['num_tx'] * 0.2 +\n",
    "    df_scaled['total_eth_sent'] * 0.2 +\n",
    "    df_scaled['total_eth_received'] * 0.2 +\n",
    "    df_scaled['compound_tx_count'] * 0.2 +\n",
    "    df_scaled['tx_duration_days'] * 0.1 +\n",
    "    df_scaled['avg_gas_fee'] * 0.1\n",
    ") * 1000\n",
    "\n",
    "df['score'] = df['score'].round(0).astype(int)\n"
   ]
  },
  {
   "cell_type": "code",
   "execution_count": 13,
   "id": "0e253fae-5ffd-4a31-bbde-b15093f4bf75",
   "metadata": {},
   "outputs": [
    {
     "name": "stdout",
     "output_type": "stream",
     "text": [
      "Saved final scores to compound_wallet_scores.csv\n"
     ]
    }
   ],
   "source": [
    "final_scores = df[['wallet_id', 'score']]\n",
    "final_scores.to_csv(\"compound_wallet_scores.csv\", index=False)\n",
    "print(\"Saved final scores to compound_wallet_scores.csv\")\n"
   ]
  }
 ],
 "metadata": {
  "kernelspec": {
   "display_name": "Python (.venv)",
   "language": "python",
   "name": ".venv"
  },
  "language_info": {
   "codemirror_mode": {
    "name": "ipython",
    "version": 3
   },
   "file_extension": ".py",
   "mimetype": "text/x-python",
   "name": "python",
   "nbconvert_exporter": "python",
   "pygments_lexer": "ipython3",
   "version": "3.11.4"
  }
 },
 "nbformat": 4,
 "nbformat_minor": 5
}
